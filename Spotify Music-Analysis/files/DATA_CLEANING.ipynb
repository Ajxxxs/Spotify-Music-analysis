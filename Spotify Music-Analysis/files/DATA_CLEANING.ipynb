{
  "cells": [
    {
      "cell_type": "code",
      "execution_count": 11,
      "metadata": {
        "colab": {
          "base_uri": "https://localhost:8080/",
          "height": 17
        },
        "id": "2NVTfOPiSmKb",
        "outputId": "b5090a2f-270e-4b2b-b669-a6a5d3f29e4b"
      },
      "outputs": [
        {
          "data": {
            "application/javascript": "\n    async function download(id, filename, size) {\n      if (!google.colab.kernel.accessAllowed) {\n        return;\n      }\n      const div = document.createElement('div');\n      const label = document.createElement('label');\n      label.textContent = `Downloading \"${filename}\": `;\n      div.appendChild(label);\n      const progress = document.createElement('progress');\n      progress.max = size;\n      div.appendChild(progress);\n      document.body.appendChild(div);\n\n      const buffers = [];\n      let downloaded = 0;\n\n      const channel = await google.colab.kernel.comms.open(id);\n      // Send a message to notify the kernel that we're ready.\n      channel.send({})\n\n      for await (const message of channel.messages) {\n        // Send a message to notify the kernel that we're ready.\n        channel.send({})\n        if (message.buffers) {\n          for (const buffer of message.buffers) {\n            buffers.push(buffer);\n            downloaded += buffer.byteLength;\n            progress.value = downloaded;\n          }\n        }\n      }\n      const blob = new Blob(buffers, {type: 'application/binary'});\n      const a = document.createElement('a');\n      a.href = window.URL.createObjectURL(blob);\n      a.download = filename;\n      div.appendChild(a);\n      a.click();\n      div.remove();\n    }\n  ",
            "text/plain": [
              "<IPython.core.display.Javascript object>"
            ]
          },
          "metadata": {},
          "output_type": "display_data"
        },
        {
          "data": {
            "application/javascript": "download(\"download_4bd4bd5b-f846-4c85-be77-f6210082a766\", \"cleaned_old.csv\", 24599)",
            "text/plain": [
              "<IPython.core.display.Javascript object>"
            ]
          },
          "metadata": {},
          "output_type": "display_data"
        }
      ],
      "source": [
        "import pandas as pd\n",
        "from google.colab import files\n",
        "\n",
        "data = pd.read_csv('/content/old_songs.csv')\n",
        "\n",
        "columns_to_remove = ['Spotify ID', 'Artist IDs', 'Duration (ms)', 'Added By', 'Key', 'Mode', 'Time Signature', 'Tempo', 'Valence', 'Added At', 'Album Name']\n",
        "data_cleaned = data.drop(columns=columns_to_remove)\n",
        "\n",
        "# Remove empty rows(Track Name)\n",
        "data_cleaned.dropna(subset=['Track Name'], inplace=True)\n",
        "\n",
        "data_cleaned = data_cleaned.loc[:, ~data_cleaned.columns.duplicated()]\n",
        "data_cleaned.to_csv('cleaned_old.csv', index=False)\n",
        "\n",
        "files.download('cleaned_old.csv')\n"
      ]
    },
    {
      "cell_type": "code",
      "execution_count": 12,
      "metadata": {
        "colab": {
          "base_uri": "https://localhost:8080/"
        },
        "id": "CHhla9O3TIoY",
        "outputId": "ef4f6a00-b639-4867-8d1b-df3b5c1d8a21"
      },
      "outputs": [
        {
          "name": "stdout",
          "output_type": "stream",
          "text": [
            "0     1991-12-30\n",
            "1     2001-11-28\n",
            "2     2006-06-08\n",
            "3     2006-04-12\n",
            "4     2004-05-31\n",
            "5     2011-07-27\n",
            "6     2011-07-27\n",
            "7     2005-08-03\n",
            "8     1998-08-13\n",
            "9     2007-09-18\n",
            "10    2003-09-20\n",
            "11    2018-02-28\n",
            "12    2007-09-14\n",
            "13    2006-04-12\n",
            "14    1994-12-01\n",
            "Name: Release Date, dtype: object\n"
          ]
        }
      ],
      "source": [
        "import pandas as pd\n",
        "\n",
        "data_cleaned = pd.read_csv('cleaned_old.csv')\n",
        "\n",
        "first_15_release_dates = data_cleaned.head(15)['Release Date']\n",
        "print(first_15_release_dates)"
      ]
    },
    {
      "cell_type": "code",
      "execution_count": 16,
      "metadata": {
        "colab": {
          "base_uri": "https://localhost:8080/",
          "height": 17
        },
        "id": "phrKbDVhXCLF",
        "outputId": "1d242ed7-0947-4452-b32c-b7ade7fea6e8"
      },
      "outputs": [
        {
          "data": {
            "application/javascript": "\n    async function download(id, filename, size) {\n      if (!google.colab.kernel.accessAllowed) {\n        return;\n      }\n      const div = document.createElement('div');\n      const label = document.createElement('label');\n      label.textContent = `Downloading \"${filename}\": `;\n      div.appendChild(label);\n      const progress = document.createElement('progress');\n      progress.max = size;\n      div.appendChild(progress);\n      document.body.appendChild(div);\n\n      const buffers = [];\n      let downloaded = 0;\n\n      const channel = await google.colab.kernel.comms.open(id);\n      // Send a message to notify the kernel that we're ready.\n      channel.send({})\n\n      for await (const message of channel.messages) {\n        // Send a message to notify the kernel that we're ready.\n        channel.send({})\n        if (message.buffers) {\n          for (const buffer of message.buffers) {\n            buffers.push(buffer);\n            downloaded += buffer.byteLength;\n            progress.value = downloaded;\n          }\n        }\n      }\n      const blob = new Blob(buffers, {type: 'application/binary'});\n      const a = document.createElement('a');\n      a.href = window.URL.createObjectURL(blob);\n      a.download = filename;\n      div.appendChild(a);\n      a.click();\n      div.remove();\n    }\n  ",
            "text/plain": [
              "<IPython.core.display.Javascript object>"
            ]
          },
          "metadata": {},
          "output_type": "display_data"
        },
        {
          "data": {
            "application/javascript": "download(\"download_826dcd33-ecc4-4d38-b7d0-2cb7934aea9f\", \"cleaned_punjabSS.csv\", 103713)",
            "text/plain": [
              "<IPython.core.display.Javascript object>"
            ]
          },
          "metadata": {},
          "output_type": "display_data"
        }
      ],
      "source": [
        "import pandas as pd\n",
        "\n",
        "data_cleaned = pd.read_csv('/content/cleaned_punjab.csv')\n",
        "\n",
        "data_cleaned['Release Date'] = pd.to_datetime(data_cleaned['Release Date'])\n",
        "data_cleaned['Release Date'] = data_cleaned['Release Date'].dt.year\n",
        "\n",
        "data_cleaned.to_csv('cleaned_punjabSS.csv', index=False)\n",
        "\n",
        "files.download('cleaned_punjabSS.csv')"
      ]
    }
  ],
  "metadata": {
    "colab": {
      "provenance": []
    },
    "kernelspec": {
      "display_name": "Python 3",
      "name": "python3"
    },
    "language_info": {
      "name": "python"
    }
  },
  "nbformat": 4,
  "nbformat_minor": 0
}
